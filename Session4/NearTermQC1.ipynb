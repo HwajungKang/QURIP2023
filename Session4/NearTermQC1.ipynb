{
 "cells": [
  {
   "cell_type": "markdown",
   "id": "664cd016",
   "metadata": {},
   "source": [
    "# Near-term Quantum Computing - Parametrized Circuits"
   ]
  },
  {
   "cell_type": "markdown",
   "id": "threatened-kernel",
   "metadata": {},
   "source": [
    "**Instructor** : Hwajung Kang, Ph.D., Quantum Computational Scientist, IBM Quantum"
   ]
  },
  {
   "cell_type": "code",
   "execution_count": 1,
   "id": "f0fff70d",
   "metadata": {},
   "outputs": [],
   "source": [
    "from qiskit import *\n",
    "from qiskit.result import sampled_expectation_value\n",
    "from qiskit.circuit import Parameter, ParameterVector\n",
    "from qiskit.quantum_info import Statevector, random_unitary, partial_trace\n",
    "from qiskit.visualization import plot_distribution\n",
    "from qiskit.visualization.bloch import Bloch\n",
    "from qiskit.circuit.library import XGate, YGate, ZGate, ZZFeatureMap, EfficientSU2\n",
    "\n",
    "from qiskit_aer import AerSimulator\n",
    "from qiskit_ibm_provider import IBMProvider\n",
    "\n",
    "import numpy as np\n",
    "import matplotlib.pyplot as plt\n",
    "import time\n",
    "\n",
    "import pandas as pd"
   ]
  },
  {
   "cell_type": "markdown",
   "id": "determined-garlic",
   "metadata": {},
   "source": [
    "## Impact of Noise"
   ]
  },
  {
   "cell_type": "code",
   "execution_count": 2,
   "id": "preceding-patrick",
   "metadata": {},
   "outputs": [],
   "source": [
    "prov = IBMProvider()"
   ]
  },
  {
   "cell_type": "code",
   "execution_count": 9,
   "id": "vietnamese-drink",
   "metadata": {},
   "outputs": [],
   "source": [
    "backend = prov.get_backend('ibm_hanoi')"
   ]
  },
  {
   "cell_type": "code",
   "execution_count": 3,
   "id": "breeding-richardson",
   "metadata": {},
   "outputs": [],
   "source": [
    "def myfunc(my_str):\n",
    "    num_str = len(my_str)\n",
    "    ind = num_str - 1 - np.where(np.array(list(my_str)) == '1')[0]\n",
    "    qc = QuantumCircuit(num_str+1, name ='oracle')\n",
    "    qc.cx(ind, num_str)\n",
    "    U = qc.to_gate()\n",
    "    return U\n",
    "\n",
    "def BV(U):\n",
    "    num_str = U.num_qubits - 1\n",
    "    qc = QuantumCircuit(num_str + 1, num_str)\n",
    "    qc.x(num_str)\n",
    "    qc.h(range(num_str + 1))\n",
    "    qc.barrier()\n",
    "    qc.append(U, range(num_str+1))\n",
    "    qc.barrier()\n",
    "    qc.h(range(num_str))\n",
    "    qc.measure(range(num_str), range(num_str))\n",
    "    \n",
    "    return qc"
   ]
  },
  {
   "cell_type": "code",
   "execution_count": 11,
   "id": "tough-monster",
   "metadata": {},
   "outputs": [],
   "source": [
    "qc_all = []\n",
    "for k in range(3, 10):\n",
    "    U = myfunc('1'*k)\n",
    "    qc_all.append(BV(U))\n",
    "    \n",
    "qc_all_trans = transpile(qc_all, backend, optimization_level=3)"
   ]
  },
  {
   "cell_type": "code",
   "execution_count": 16,
   "id": "naval-polyester",
   "metadata": {},
   "outputs": [
    {
     "name": "stdout",
     "output_type": "stream",
     "text": [
      "ch01fljubrsneia8gq6g\n"
     ]
    }
   ],
   "source": [
    "job = backend.run(qc_all_trans, shots=100000)\n",
    "print(job.job_id())"
   ]
  },
  {
   "cell_type": "code",
   "execution_count": null,
   "id": "speaking-tower",
   "metadata": {},
   "outputs": [],
   "source": [
    "#job = prov.retrieve_job('cge84l9qf3dvb4ojjn60')\n",
    "counts_all = job.result().get_counts()\n",
    "\n",
    "fig, axs = plt.subplots(4, 1, figsize=(30, 27))\n",
    "for k in range(4):\n",
    "    plot_distribution(counts_all[k], ax=axs[k], target_string='1'*(3+k), sort='hamming')"
   ]
  },
  {
   "cell_type": "code",
   "execution_count": null,
   "id": "tight-present",
   "metadata": {},
   "outputs": [],
   "source": [
    "# hellinger_fidelity\n",
    "counts_ideal = [{'1'*k:1} for k in range(3, 10)]\n",
    "\n",
    "x = list(range(3, 3+len(counts_all)))\n",
    "y = [hellinger_fidelity(counts_ideal[k], counts_all[k]) for k in range(len(counts_all))]\n",
    "\n",
    "fig, ax = plt.subplots()\n",
    "ax.bar(x, y)\n",
    "ax.set_ylabel('fidelity');"
   ]
  },
  {
   "cell_type": "markdown",
   "id": "9b84a706",
   "metadata": {},
   "source": [
    "## Parametrized circuit - Basics"
   ]
  },
  {
   "cell_type": "markdown",
   "id": "b954f242",
   "metadata": {},
   "source": [
    "<div class=\"alert alert-block alert-info\">\n",
    "\n",
    "**When to use?**\n",
    "- The computation requires executing circuits with the same structure \n",
    "\n",
    "**Why to use?**\n",
    "- No need to construct multiple circuits - build one circuit\n",
    "- No need to transpile circuit multiple times - transpile circuit once\n",
    "   \n",
    "</div>"
   ]
  },
  {
   "cell_type": "markdown",
   "id": "19efb683",
   "metadata": {},
   "source": [
    "### Phase kickback"
   ]
  },
  {
   "cell_type": "markdown",
   "id": "warming-input",
   "metadata": {},
   "source": [
    "<div><img src=\"phase_kickback.png\" width=\"600\"/></div>"
   ]
  },
  {
   "cell_type": "code",
   "execution_count": 17,
   "id": "c985ae32",
   "metadata": {},
   "outputs": [],
   "source": [
    "angles = np.linspace(0, 8*np.pi, 200)"
   ]
  },
  {
   "cell_type": "code",
   "execution_count": 18,
   "id": "enormous-hydrogen",
   "metadata": {},
   "outputs": [],
   "source": [
    "backend = prov.get_backend('ibmq_lima')"
   ]
  },
  {
   "cell_type": "markdown",
   "id": "69052dc1",
   "metadata": {},
   "source": [
    "- Without using parametrized circuit"
   ]
  },
  {
   "cell_type": "code",
   "execution_count": 19,
   "id": "09a3b024",
   "metadata": {},
   "outputs": [],
   "source": [
    "start = time.time()\n",
    "\n",
    "qc_all = []\n",
    "for ang in angles:\n",
    "    qc = QuantumCircuit(2, 1)\n",
    "    qc.h(0)\n",
    "    qc.x(1)\n",
    "    qc.cp(ang, 0, 1)\n",
    "    qc.h(0)\n",
    "    qc.measure(0, 0)\n",
    "    qc_all.append(qc)\n",
    "\n",
    "qc_trans_all = transpile(qc_all, backend, optimization_level=3)\n",
    "\n",
    "finish = time.time()\n",
    "del_time1 = (finish - start)"
   ]
  },
  {
   "cell_type": "code",
   "execution_count": 20,
   "id": "d7551b3c",
   "metadata": {},
   "outputs": [
    {
     "name": "stdout",
     "output_type": "stream",
     "text": [
      "transpile time : 2.56s\n"
     ]
    }
   ],
   "source": [
    "print('transpile time : {}s'.format(np.round(del_time1, 3)))"
   ]
  },
  {
   "cell_type": "markdown",
   "id": "f21475e9",
   "metadata": {},
   "source": [
    "- Parametrized circuit version"
   ]
  },
  {
   "cell_type": "code",
   "execution_count": 21,
   "id": "1e1f8578",
   "metadata": {},
   "outputs": [
    {
     "data": {
      "image/png": "[encoded data removed]",
      "text/plain": [
       "<Figure size 327.252x204.68 with 1 Axes>"
      ]
     },
     "execution_count": 21,
     "metadata": {},
     "output_type": "execute_result"
    }
   ],
   "source": [
    "#Build a parametrized circuit\n",
    "\n",
    "theta = Parameter(name='θ')\n",
    "\n",
    "qc = QuantumCircuit(2, 1)\n",
    "qc.h(0)\n",
    "qc.x(1)\n",
    "qc.cp(theta, 0, 1)\n",
    "qc.h(0)\n",
    "qc.measure(0, 0)\n",
    "\n",
    "qc.draw('mpl')"
   ]
  },
  {
   "cell_type": "code",
   "execution_count": 22,
   "id": "6b4196aa",
   "metadata": {},
   "outputs": [],
   "source": [
    "# Transpile parameterized circuit\n",
    "start = time.time()\n",
    "\n",
    "theta = Parameter(name='θ')\n",
    "\n",
    "qc = QuantumCircuit(2, 1)\n",
    "qc.h(0)\n",
    "qc.x(1)\n",
    "qc.cp(theta, 0, 1)\n",
    "qc.h(0)\n",
    "qc.measure(0, 0)\n",
    "\n",
    "qc_trans = transpile(qc, backend, optimization_level=3)\n",
    "\n",
    "qc_trans_all2 = []\n",
    "for ang in angles:\n",
    "    qc_trans_all2.append(qc_trans.bind_parameters({theta:ang}))\n",
    "    \n",
    "finish = time.time()\n",
    "del_time2 = finish - start"
   ]
  },
  {
   "cell_type": "code",
   "execution_count": 23,
   "id": "2fb427ac",
   "metadata": {},
   "outputs": [
    {
     "name": "stdout",
     "output_type": "stream",
     "text": [
      "transpile time : 0.127s\n"
     ]
    }
   ],
   "source": [
    "print('transpile time : {}s'.format(np.round(del_time2, 3)))"
   ]
  },
  {
   "cell_type": "markdown",
   "id": "7f7ba683",
   "metadata": {},
   "source": [
    "**Things to note**\n",
    "- Benefit of parametrized circuits grows with the number of circuits, circuit complexity, and the size of the backend as the time it takes for transpilation grows polynomially with the circuit size\n",
    "- As numerical parameter values are needed for many optimization steps, transpiling parameterized circuits may not yeild optimal results."
   ]
  },
  {
   "cell_type": "code",
   "execution_count": 24,
   "id": "b2d5dea1",
   "metadata": {
    "scrolled": false
   },
   "outputs": [
    {
     "name": "stdout",
     "output_type": "stream",
     "text": [
      "without parametrizing circuit\n"
     ]
    },
    {
     "data": {
      "image/png": "[encoded data removed]",
      "text/plain": [
       "<Figure size 961.931x385.28 with 1 Axes>"
      ]
     },
     "execution_count": 24,
     "metadata": {},
     "output_type": "execute_result"
    }
   ],
   "source": [
    "k = 10\n",
    "print('without parametrizing circuit')\n",
    "qc_trans_all[k].draw('mpl')"
   ]
  },
  {
   "cell_type": "code",
   "execution_count": 25,
   "id": "690f5457",
   "metadata": {},
   "outputs": [
    {
     "name": "stdout",
     "output_type": "stream",
     "text": [
      "using parametrized circuit\n"
     ]
    },
    {
     "data": {
      "image/png": "[encoded data removed]",
      "text/plain": [
       "<Figure size 1202.73x385.28 with 1 Axes>"
      ]
     },
     "execution_count": 25,
     "metadata": {},
     "output_type": "execute_result"
    }
   ],
   "source": [
    "print('using parametrized circuit')\n",
    "qc_trans_all2[k].draw('mpl')"
   ]
  },
  {
   "cell_type": "markdown",
   "id": "300f3827",
   "metadata": {},
   "source": [
    "## Build parametrized circuit"
   ]
  },
  {
   "cell_type": "markdown",
   "id": "4b2f909f",
   "metadata": {},
   "source": [
    "[u gate](https://qiskit.org/documentation/stubs/qiskit.circuit.library.U3Gate.html#qiskit.circuit.library.U3Gate)"
   ]
  },
  {
   "cell_type": "markdown",
   "id": "d16cbc7d",
   "metadata": {},
   "source": [
    "### parameter"
   ]
  },
  {
   "cell_type": "code",
   "execution_count": 27,
   "id": "834e87e3",
   "metadata": {},
   "outputs": [
    {
     "name": "stdout",
     "output_type": "stream",
     "text": [
      "   ┌──────────┐\n",
      "q: ┤ U(θ,γ,λ) ├\n",
      "   └──────────┘\n",
      "   ┌──────────┐\n",
      "q: ┤ U(2,1,3) ├\n",
      "   └──────────┘\n"
     ]
    }
   ],
   "source": [
    "theta, gamma, lam = Parameter('θ'), Parameter('γ'), Parameter('λ') \n",
    "myqc1 = QuantumCircuit(1)\n",
    "myqc1.u(theta, gamma, lam, 0)\n",
    "print(myqc1)\n",
    "\n",
    "myvals = [1, 2, 3]\n",
    "#mybc1 = myqc1.bind_parameters({theta:1, gamma:2, lam:3})\n",
    "mybc1 = myqc1.assign_parameters(myvals)\n",
    "print(mybc1)"
   ]
  },
  {
   "cell_type": "markdown",
   "id": "a5256d34",
   "metadata": {},
   "source": [
    "Note: The parameter values are assigned in the alphabetical order rather than the insertion order when `assign_parameters` method is used."
   ]
  },
  {
   "cell_type": "markdown",
   "id": "39fe00ee",
   "metadata": {},
   "source": [
    "### parameter vector"
   ]
  },
  {
   "cell_type": "code",
   "execution_count": 28,
   "id": "81614313",
   "metadata": {},
   "outputs": [
    {
     "name": "stdout",
     "output_type": "stream",
     "text": [
      "   ┌───────────────────┐\n",
      "q: ┤ U(φ[0],φ[1],φ[2]) ├\n",
      "   └───────────────────┘\n",
      "   ┌──────────┐\n",
      "q: ┤ U(1,2,3) ├\n",
      "   └──────────┘\n"
     ]
    }
   ],
   "source": [
    "ang = ParameterVector('φ', 3)\n",
    "myqc2 = QuantumCircuit(1) \n",
    "myqc2.u(*ang, 0)\n",
    "print(myqc2)\n",
    "\n",
    "mybc2 = myqc2.assign_parameters(myvals)\n",
    "#mybc2 = myqc2.bind_parameters({ang:myvals})\n",
    "print(mybc2)"
   ]
  },
  {
   "cell_type": "markdown",
   "id": "51a5ba02",
   "metadata": {},
   "source": [
    "### partial binding"
   ]
  },
  {
   "cell_type": "code",
   "execution_count": 29,
   "id": "58a36736",
   "metadata": {},
   "outputs": [
    {
     "name": "stdout",
     "output_type": "stream",
     "text": [
      "   ┌──────────┐\n",
      "q: ┤ U(θ,γ,λ) ├\n",
      "   └──────────┘\n",
      "   ┌──────────┐\n",
      "q: ┤ U(1,2,λ) ├\n",
      "   └──────────┘\n"
     ]
    }
   ],
   "source": [
    "theta, gamma, lam = Parameter('θ'), Parameter('γ'), Parameter('λ') \n",
    "myqc1 = QuantumCircuit(1)\n",
    "myqc1.u(theta, gamma, lam, 0)\n",
    "print(myqc1)\n",
    "\n",
    "myvals = [1, 2, 3]\n",
    "mybc1 = myqc1.bind_parameters({theta:1, gamma:2})\n",
    "mybc2 = myqc1.bind_parameters({theta:3, gamma:4})\n",
    "\n",
    "print(mybc1)"
   ]
  },
  {
   "cell_type": "code",
   "execution_count": 30,
   "id": "fb8e7793",
   "metadata": {},
   "outputs": [
    {
     "name": "stdout",
     "output_type": "stream",
     "text": [
      "   ┌────────────────┐\n",
      "q: ┤ U(δ[0],δ[1],ε) ├\n",
      "   └────────────────┘\n",
      "   ┌──────────┐\n",
      "q: ┤ U(1,2,ε) ├\n",
      "   └──────────┘\n"
     ]
    }
   ],
   "source": [
    "two_angs, one_ang = ParameterVector('δ', 2), Parameter('ε')\n",
    "myqc3 = QuantumCircuit(1)\n",
    "myqc3.u(*two_angs, one_ang, 0)\n",
    "print(myqc3)\n",
    "\n",
    "mybc3 = myqc3.bind_parameters({two_angs:[1, 2]})\n",
    "print(mybc3)"
   ]
  },
  {
   "cell_type": "markdown",
   "id": "58db58b5",
   "metadata": {},
   "source": [
    "<div class=\"alert alert-block alert-success\">\n",
    "\n",
    "### Hands-on exercise 1.\n",
    "\n",
    "Build a five qubit quantum circuit where a `rx` gate with an unique parametrized angle is applied to each qubit. Then apply `cp` gates with different parametrized angles between the $k$th and $k$th+1 qubits.\n",
    "Assign numerical values that you want only to `cp` gates.\n",
    "    \n",
    "</div>"
   ]
  },
  {
   "cell_type": "code",
   "execution_count": 1,
   "id": "26b332d1",
   "metadata": {},
   "outputs": [],
   "source": [
    "## your code goes here\n",
    "\n",
    "\n",
    "\n",
    "\n",
    "\n",
    "\n",
    "\n",
    "\n",
    "\n",
    "\n",
    "\n",
    "\n"
   ]
  },
  {
   "cell_type": "markdown",
   "id": "30efe7bd",
   "metadata": {},
   "source": [
    "- Further reading: [Advanced Circuit](https://qiskit.org/documentation/tutorials/circuits_advanced/01_advanced_circuits.html)"
   ]
  },
  {
   "cell_type": "markdown",
   "id": "6fb964e6",
   "metadata": {},
   "source": [
    "## Usecase 1. Data Encoding - Quantum feature map for QSVM "
   ]
  },
  {
   "cell_type": "markdown",
   "id": "66304ff7",
   "metadata": {},
   "source": [
    "QSVM : Quantum Support Vector Machine\n",
    "- Reference : [_Havlicek et al_.  Nature **567**, 209-212 (2019)](https://www.nature.com/articles/s41586-019-0980-2)"
   ]
  },
  {
   "cell_type": "markdown",
   "id": "9376161b",
   "metadata": {},
   "source": [
    "### 1-dim data"
   ]
  },
  {
   "cell_type": "code",
   "execution_count": 32,
   "id": "3af8c09c",
   "metadata": {},
   "outputs": [
    {
     "name": "stdout",
     "output_type": "stream",
     "text": [
      "[0.88598098 2.08589498 5.05476685 0.39878415 0.61106468]\n"
     ]
    },
    {
     "data": {
      "image/png": "[encoded data removed]",
      "text/plain": [
       "<Figure size 314.126x84.28 with 1 Axes>"
      ]
     },
     "execution_count": 32,
     "metadata": {},
     "output_type": "execute_result"
    }
   ],
   "source": [
    "num = 500\n",
    "data = 2 * np.pi * np.random.rand(num)\n",
    "print(data[:5])\n",
    "\n",
    "x = Parameter(name='x')\n",
    "qc_data = QuantumCircuit(1)\n",
    "qc_data.h(0)\n",
    "qc_data.rz(x, 0)\n",
    "qc_data.h(0)\n",
    "qc_data.rz(x, 0)\n",
    "\n",
    "qc_data.draw('mpl')"
   ]
  },
  {
   "cell_type": "code",
   "execution_count": 33,
   "id": "79b1d04a",
   "metadata": {},
   "outputs": [
    {
     "data": {
      "image/png": "[encoded data removed]",
      "text/plain": [
       "<Figure size 432x288 with 1 Axes>"
      ]
     },
     "metadata": {},
     "output_type": "display_data"
    }
   ],
   "source": [
    "X, Y, Z = XGate(), YGate(), ZGate()\n",
    "Xop, Yop, Zop = X.to_matrix(), Y.to_matrix(), Z.to_matrix()\n",
    "\n",
    "def state_to_bloch(state_vec):\n",
    "    phi = st.data\n",
    "    bx = phi.conjugate() @ Xop @ phi\n",
    "    by = phi.conjugate() @ Yop @ phi\n",
    "    bz = phi.conjugate() @ Zop @ phi\n",
    "    return [bx, by, bz]\n",
    "\n",
    "\n",
    "st_data = [Statevector(qc_data.assign_parameters([dat]))for dat in data]\n",
    "\n",
    "fig = plt.figure()\n",
    "ax = fig.add_subplot(1, 1, 1, projection='3d')\n",
    "b = Bloch(axes=ax)\n",
    "b.point_color = ['tab:blue']\n",
    "b.point_marker = ['o']\n",
    "b.point_size =[2]\n",
    "\n",
    "for st in st_data:\n",
    "    v = state_to_bloch(st)\n",
    "    b.add_points(v)\n",
    "    \n",
    "b.show()\n"
   ]
  },
  {
   "cell_type": "markdown",
   "id": "e2bd0fa8",
   "metadata": {},
   "source": [
    "### N-dim data \n",
    "- Check out **Data encoding circuits** in [Qiskit circuit library](https://qiskit.org/documentation/apidoc/circuit_library.html)"
   ]
  },
  {
   "cell_type": "markdown",
   "id": "e822c62c",
   "metadata": {},
   "source": [
    "**[ZZFeatureMap](https://qiskit.org/documentation/stubs/qiskit.circuit.library.ZZFeatureMap.html)**\n",
    "\n",
    "$$\\mathcal{U}_{\\Phi(\\mathbf{x})} = \\left( \\exp\\left(i\\sum_{jk} \\phi_{\\{j,k\\}}(\\mathbf{x}) \\, Z_j \\otimes Z_k\\right) \\, \\exp\\left(i\\sum_j \\phi_{\\{j\\}}(\\mathbf{x}) \\, Z_j\\right) \\, H^{\\otimes n} \\right)^d,$$ \n",
    "\n",
    "where $$\\phi_S:\\mathbf{x}\\mapsto \\Bigg\\{\\begin{array}{ll}\n",
    "    x_i & \\mbox{if}\\ S=\\{i\\} \\\\\n",
    "        (\\pi-x_i)(\\pi-x_j) & \\mbox{if}\\ S=\\{i,j\\}\n",
    "    \\end{array}.$$\n",
    "    \n",
    "`ZZFeatureMap` is defined as:\n",
    "```python\n",
    "ZZFeatureMap(feature_dimension, reps=2, \n",
    "             entanglement='full', data_map_func=None,\n",
    "             parameter_prefix='x', insert_barriers=False)\n",
    "```"
   ]
  },
  {
   "cell_type": "code",
   "execution_count": 34,
   "id": "7678d44a",
   "metadata": {},
   "outputs": [
    {
     "data": {
      "text/html": [
       "<div>\n",
       "<style scoped>\n",
       "    .dataframe tbody tr th:only-of-type {\n",
       "        vertical-align: middle;\n",
       "    }\n",
       "\n",
       "    .dataframe tbody tr th {\n",
       "        vertical-align: top;\n",
       "    }\n",
       "\n",
       "    .dataframe thead th {\n",
       "        text-align: right;\n",
       "    }\n",
       "</style>\n",
       "<table border=\"1\" class=\"dataframe\">\n",
       "  <thead>\n",
       "    <tr style=\"text-align: right;\">\n",
       "      <th></th>\n",
       "      <th>feat1</th>\n",
       "      <th>feat2</th>\n",
       "      <th>feat3</th>\n",
       "    </tr>\n",
       "  </thead>\n",
       "  <tbody>\n",
       "    <tr>\n",
       "      <th>0</th>\n",
       "      <td>1.545767</td>\n",
       "      <td>3.950596</td>\n",
       "      <td>4.152851</td>\n",
       "    </tr>\n",
       "    <tr>\n",
       "      <th>1</th>\n",
       "      <td>2.868549</td>\n",
       "      <td>1.677440</td>\n",
       "      <td>1.781993</td>\n",
       "    </tr>\n",
       "    <tr>\n",
       "      <th>2</th>\n",
       "      <td>1.695311</td>\n",
       "      <td>4.204221</td>\n",
       "      <td>3.746920</td>\n",
       "    </tr>\n",
       "    <tr>\n",
       "      <th>3</th>\n",
       "      <td>1.645497</td>\n",
       "      <td>5.492736</td>\n",
       "      <td>1.452010</td>\n",
       "    </tr>\n",
       "    <tr>\n",
       "      <th>4</th>\n",
       "      <td>1.954277</td>\n",
       "      <td>5.736553</td>\n",
       "      <td>4.285844</td>\n",
       "    </tr>\n",
       "  </tbody>\n",
       "</table>\n",
       "</div>"
      ],
      "text/plain": [
       "      feat1     feat2     feat3\n",
       "0  1.545767  3.950596  4.152851\n",
       "1  2.868549  1.677440  1.781993\n",
       "2  1.695311  4.204221  3.746920\n",
       "3  1.645497  5.492736  1.452010\n",
       "4  1.954277  5.736553  4.285844"
      ]
     },
     "execution_count": 34,
     "metadata": {},
     "output_type": "execute_result"
    }
   ],
   "source": [
    "data = 2 * np.pi * np.random.rand(5, 3)\n",
    "\n",
    "df = pd.DataFrame(data)\n",
    "df.rename(columns=dict(zip(df.columns, ['feat1', 'feat2', 'feat3'])))"
   ]
  },
  {
   "cell_type": "code",
   "execution_count": 35,
   "id": "1786b56b",
   "metadata": {},
   "outputs": [
    {
     "data": {
      "image/png": "[encoded data removed]",
      "text/plain": [
       "<Figure size 1110x204.68 with 1 Axes>"
      ]
     },
     "execution_count": 35,
     "metadata": {},
     "output_type": "execute_result"
    }
   ],
   "source": [
    "feat_map = ZZFeatureMap(3, reps=1)\n",
    "feat_map.decompose().draw('mpl')"
   ]
  },
  {
   "cell_type": "code",
   "execution_count": 36,
   "id": "5344ed33",
   "metadata": {},
   "outputs": [
    {
     "name": "stdout",
     "output_type": "stream",
     "text": [
      "the number of quantum circuits : 5\n"
     ]
    },
    {
     "data": {
      "image/png": "[encoded data removed]",
      "text/plain": [
       "<Figure size 1110x204.68 with 1 Axes>"
      ]
     },
     "execution_count": 36,
     "metadata": {},
     "output_type": "execute_result"
    }
   ],
   "source": [
    "feat_map_data = [feat_map.assign_parameters(dat) for dat in data]\n",
    "print('the number of quantum circuits : {}'.format(len(feat_map_data)))\n",
    "feat_map_data[2].decompose().draw('mpl')"
   ]
  },
  {
   "cell_type": "markdown",
   "id": "7008a04f",
   "metadata": {},
   "source": [
    "<div class=\"alert alert-block alert-success\">\n",
    "\n",
    "### Hands-on exercise 2.\n",
    "Encode the following data, `data_ex`, using the `ZZFeatureMap` with 2 repetition. \n",
    "</div>"
   ]
  },
  {
   "cell_type": "code",
   "execution_count": 38,
   "id": "7a0ec9de",
   "metadata": {},
   "outputs": [
    {
     "data": {
      "text/html": [
       "<div>\n",
       "<style scoped>\n",
       "    .dataframe tbody tr th:only-of-type {\n",
       "        vertical-align: middle;\n",
       "    }\n",
       "\n",
       "    .dataframe tbody tr th {\n",
       "        vertical-align: top;\n",
       "    }\n",
       "\n",
       "    .dataframe thead th {\n",
       "        text-align: right;\n",
       "    }\n",
       "</style>\n",
       "<table border=\"1\" class=\"dataframe\">\n",
       "  <thead>\n",
       "    <tr style=\"text-align: right;\">\n",
       "      <th></th>\n",
       "      <th>feat1</th>\n",
       "      <th>feat2</th>\n",
       "      <th>feat3</th>\n",
       "      <th>feat4</th>\n",
       "      <th>feat5</th>\n",
       "    </tr>\n",
       "  </thead>\n",
       "  <tbody>\n",
       "    <tr>\n",
       "      <th>0</th>\n",
       "      <td>5.598568</td>\n",
       "      <td>0.079896</td>\n",
       "      <td>6.525870</td>\n",
       "      <td>3.766863</td>\n",
       "      <td>0.606235</td>\n",
       "    </tr>\n",
       "    <tr>\n",
       "      <th>1</th>\n",
       "      <td>2.281652</td>\n",
       "      <td>0.188638</td>\n",
       "      <td>4.632980</td>\n",
       "      <td>5.703322</td>\n",
       "      <td>1.143912</td>\n",
       "    </tr>\n",
       "    <tr>\n",
       "      <th>2</th>\n",
       "      <td>3.117545</td>\n",
       "      <td>4.691031</td>\n",
       "      <td>2.120802</td>\n",
       "      <td>5.985716</td>\n",
       "      <td>3.021998</td>\n",
       "    </tr>\n",
       "    <tr>\n",
       "      <th>3</th>\n",
       "      <td>1.745709</td>\n",
       "      <td>3.436617</td>\n",
       "      <td>2.451058</td>\n",
       "      <td>0.563499</td>\n",
       "      <td>2.977186</td>\n",
       "    </tr>\n",
       "    <tr>\n",
       "      <th>4</th>\n",
       "      <td>3.167423</td>\n",
       "      <td>1.994600</td>\n",
       "      <td>3.213381</td>\n",
       "      <td>5.443669</td>\n",
       "      <td>1.930219</td>\n",
       "    </tr>\n",
       "    <tr>\n",
       "      <th>5</th>\n",
       "      <td>3.885341</td>\n",
       "      <td>3.003615</td>\n",
       "      <td>0.486797</td>\n",
       "      <td>3.890077</td>\n",
       "      <td>6.154694</td>\n",
       "    </tr>\n",
       "    <tr>\n",
       "      <th>6</th>\n",
       "      <td>0.462013</td>\n",
       "      <td>6.245863</td>\n",
       "      <td>4.255387</td>\n",
       "      <td>3.107715</td>\n",
       "      <td>5.218081</td>\n",
       "    </tr>\n",
       "    <tr>\n",
       "      <th>7</th>\n",
       "      <td>0.212938</td>\n",
       "      <td>5.167151</td>\n",
       "      <td>6.629989</td>\n",
       "      <td>3.281887</td>\n",
       "      <td>6.450828</td>\n",
       "    </tr>\n",
       "    <tr>\n",
       "      <th>8</th>\n",
       "      <td>2.272923</td>\n",
       "      <td>1.096389</td>\n",
       "      <td>3.708701</td>\n",
       "      <td>6.068379</td>\n",
       "      <td>3.571525</td>\n",
       "    </tr>\n",
       "    <tr>\n",
       "      <th>9</th>\n",
       "      <td>2.134420</td>\n",
       "      <td>4.669761</td>\n",
       "      <td>2.136371</td>\n",
       "      <td>1.293825</td>\n",
       "      <td>3.792304</td>\n",
       "    </tr>\n",
       "  </tbody>\n",
       "</table>\n",
       "</div>"
      ],
      "text/plain": [
       "      feat1     feat2     feat3     feat4     feat5\n",
       "0  5.598568  0.079896  6.525870  3.766863  0.606235\n",
       "1  2.281652  0.188638  4.632980  5.703322  1.143912\n",
       "2  3.117545  4.691031  2.120802  5.985716  3.021998\n",
       "3  1.745709  3.436617  2.451058  0.563499  2.977186\n",
       "4  3.167423  1.994600  3.213381  5.443669  1.930219\n",
       "5  3.885341  3.003615  0.486797  3.890077  6.154694\n",
       "6  0.462013  6.245863  4.255387  3.107715  5.218081\n",
       "7  0.212938  5.167151  6.629989  3.281887  6.450828\n",
       "8  2.272923  1.096389  3.708701  6.068379  3.571525\n",
       "9  2.134420  4.669761  2.136371  1.293825  3.792304"
      ]
     },
     "execution_count": 38,
     "metadata": {},
     "output_type": "execute_result"
    }
   ],
   "source": [
    "data_ex = 7*np.random.rand(10, 5)\n",
    "\n",
    "df_ex = pd.DataFrame(data_ex)\n",
    "df_ex.rename(columns=dict(zip(df_ex.columns,['feat1', 'feat2', 'feat3', 'feat4', 'feat5'])))"
   ]
  },
  {
   "cell_type": "code",
   "execution_count": 2,
   "id": "5aa751c0",
   "metadata": {},
   "outputs": [],
   "source": [
    "## your code goes here\n",
    "\n",
    "\n",
    "\n",
    "\n",
    "\n",
    "\n",
    "\n",
    "\n"
   ]
  },
  {
   "cell_type": "markdown",
   "id": "e5ee0074",
   "metadata": {},
   "source": [
    "## Usecase 2. Ansatz preparation- VQA"
   ]
  },
  {
   "cell_type": "markdown",
   "id": "ae109874",
   "metadata": {},
   "source": [
    "VQA : Variational Quantum Algorithm"
   ]
  },
  {
   "cell_type": "markdown",
   "id": "3deeade0",
   "metadata": {},
   "source": [
    "- Check out the section **N-local circuits** in [Qiskit circuit library](https://qiskit.org/documentation/apidoc/circuit_library.html)"
   ]
  },
  {
   "cell_type": "markdown",
   "id": "a43f64a5",
   "metadata": {},
   "source": [
    "**[EfficientSU2](https://qiskit.org/documentation/stubs/qiskit.circuit.library.EfficientSU2.html#qiskit.circuit.library.EfficientSU2)**\n",
    "\n",
    "`EfficientSU2` is a parametrized quantum circuit generating a hardware efficient, heuristic ansatz with alternating rotation and entanglement layer, which is used for variational quantum algorithms or classification circuit for machine learning.\n",
    "\n",
    "```python\n",
    "EfficientSU2(num_qubits=None, su2_gates=None, entanglement='reverse_linear', \n",
    "             reps=3, skip_unentangled_qubits=False, \n",
    "             skip_final_rotation_layer=False, parameter_prefix='θ',\n",
    "             insert_barriers=False, initial_state=None)\n",
    "```\n",
    "\n",
    "Check [TwoLocal](https://qiskit.org/documentation/stubs/qiskit.circuit.library.TwoLocal.html#qiskit.circuit.library.TwoLocal) for entanglement strategies."
   ]
  },
  {
   "cell_type": "markdown",
   "id": "61267017",
   "metadata": {},
   "source": [
    "<div class=\"alert alert-block alert-success\">\n",
    "\n",
    "### Hands-on exercise 3.\n",
    "Build a circuit to generate a hardware efficient ansatz for a 5 qubit system through `EfficientSU2` with 3 repetitions, using `h` and `rz` gates for `su2_gates`, implementing the `entangler_map` $= [[2, 1], ~ [1, 0], ~ [2, 3], ~[3, 4]]$.\n",
    "    \n",
    "</div>"
   ]
  },
  {
   "cell_type": "code",
   "execution_count": 3,
   "id": "ed1093fb",
   "metadata": {},
   "outputs": [],
   "source": [
    "## your code goes here\n",
    "\n",
    "\n",
    "\n",
    "\n",
    "\n"
   ]
  },
  {
   "cell_type": "markdown",
   "id": "3ba354bb",
   "metadata": {},
   "source": [
    "**Further Reading** \n",
    "- [Parametrized quantum circuits](https://learn.qiskit.org/course/machine-learning/parameterized-quantum-circuits#parameterized-1-0)"
   ]
  },
  {
   "cell_type": "code",
   "execution_count": 1,
   "id": "2eb83c39",
   "metadata": {},
   "outputs": [
    {
     "data": {
      "text/html": [
       "<h3>Version Information</h3><table><tr><th>Qiskit Software</th><th>Version</th></tr><tr><td><code>qiskit-terra</code></td><td>0.24.1</td></tr><tr><td><code>qiskit-aer</code></td><td>0.12.0</td></tr><tr><td><code>qiskit-ibmq-provider</code></td><td>0.20.2</td></tr><tr><td><code>qiskit</code></td><td>0.43.1</td></tr><tr><td><code>qiskit-nature</code></td><td>0.6.0</td></tr><tr><th>System information</th></tr><tr><td>Python version</td><td>3.11.4</td></tr><tr><td>Python compiler</td><td>Clang 15.0.7 </td></tr><tr><td>Python build</td><td>main, Jun 10 2023 18:08:41</td></tr><tr><td>OS</td><td>Darwin</td></tr><tr><td>CPUs</td><td>10</td></tr><tr><td>Memory (Gb)</td><td>32.0</td></tr><tr><td colspan='2'>Wed Jul 12 13:17:16 2023 EDT</td></tr></table>"
      ],
      "text/plain": [
       "<IPython.core.display.HTML object>"
      ]
     },
     "metadata": {},
     "output_type": "display_data"
    },
    {
     "data": {
      "text/html": [
       "<div style='width: 100%; background-color:#d5d9e0;padding-left: 10px; padding-bottom: 10px; padding-right: 10px; padding-top: 5px'><h3>This code is a part of Qiskit</h3><p>&copy; Copyright IBM 2017, 2023.</p><p>This code is licensed under the Apache License, Version 2.0. You may<br>obtain a copy of this license in the LICENSE.txt file in the root directory<br> of this source tree or at http://www.apache.org/licenses/LICENSE-2.0.<p>Any modifications or derivative works of this code must retain this<br>copyright notice, and modified files need to carry a notice indicating<br>that they have been altered from the originals.</p></div>"
      ],
      "text/plain": [
       "<IPython.core.display.HTML object>"
      ]
     },
     "metadata": {},
     "output_type": "display_data"
    }
   ],
   "source": [
    "import qiskit.tools.jupyter \n",
    "%qiskit_version_table\n",
    "%qiskit_copyright"
   ]
  },
  {
   "cell_type": "code",
   "execution_count": null,
   "id": "0459c38c",
   "metadata": {},
   "outputs": [],
   "source": []
  }
 ],
 "metadata": {
  "kernelspec": {
   "display_name": "Python 3 (ipykernel)",
   "language": "python",
   "name": "python3"
  },
  "language_info": {
   "codemirror_mode": {
    "name": "ipython",
    "version": 3
   },
   "file_extension": ".py",
   "mimetype": "text/x-python",
   "name": "python",
   "nbconvert_exporter": "python",
   "pygments_lexer": "ipython3",
   "version": "3.11.4"
  }
 },
 "nbformat": 4,
 "nbformat_minor": 5
}
