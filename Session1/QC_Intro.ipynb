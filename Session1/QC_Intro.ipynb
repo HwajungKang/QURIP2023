{
 "cells": [
  {
   "cell_type": "markdown",
   "metadata": {},
   "source": [
    "# Introduction to Quantum Computing "
   ]
  },
  {
   "cell_type": "markdown",
   "metadata": {},
   "source": [
    "**Instructor** : Hwajung Kang, Ph.D., Education Delivery Program Manager, IBM Quantum"
   ]
  },
  {
   "cell_type": "code",
   "execution_count": null,
   "metadata": {},
   "outputs": [],
   "source": [
    "from qiskit import *\n",
    "from qiskit.tools.jupyter import *\n",
    "from qiskit.visualization import *\n",
    "\n",
    "from qiskit_aer import AerSimulator\n",
    "from qiskit_ibm_provider import IBMProvider\n",
    "\n",
    "import numpy as np\n",
    "import matplotlib.pyplot as plt"
   ]
  },
  {
   "cell_type": "markdown",
   "metadata": {},
   "source": [
    "- A specific simulator or device is called a `backend`.\n",
    "\n",
    "\n",
    "- `backend.run` takes a quantum circuit, or list of circuits, and execute the circuits on the chosen backend.\n",
    "\n",
    "\n",
    "- By default, simulators execute `shots=1024` realizations of a circuit under ideal condition.\n",
    "\n"
   ]
  },
  {
   "cell_type": "markdown",
   "metadata": {},
   "source": [
    "## Single Qubit Operations - X, H and Z"
   ]
  },
  {
   "cell_type": "markdown",
   "metadata": {},
   "source": [
    "### X gate : Not gate\n",
    "\n",
    "$X = \\begin{bmatrix}0 & 1 \\\\ 1 & 0 \\end{bmatrix} , ~~~~~~ XX = I$\n",
    "\n",
    "$X|0\\rangle = |1\\rangle ~~~~~~~~~ X|1\\rangle = |0\\rangle $"
   ]
  },
  {
   "cell_type": "code",
   "execution_count": null,
   "metadata": {},
   "outputs": [],
   "source": [
    "qc = QuantumCircuit(1, 1)\n",
    "qc.x(0)\n",
    "qc.measure(0, 0) \n",
    "qc.draw('mpl')"
   ]
  },
  {
   "cell_type": "code",
   "execution_count": null,
   "metadata": {},
   "outputs": [],
   "source": [
    "backend = AerSimulator()"
   ]
  },
  {
   "cell_type": "code",
   "execution_count": null,
   "metadata": {},
   "outputs": [],
   "source": [
    "job = backend.run(qc) #shot\n",
    "results = job.result()\n",
    "counts = results.get_counts()\n",
    "\n",
    "plot_distribution(counts)\n",
    "#plot_histogram(counts)"
   ]
  },
  {
   "cell_type": "code",
   "execution_count": null,
   "metadata": {},
   "outputs": [],
   "source": [
    "qc = QuantumCircuit(1, 1)\n",
    "qc.x(0)\n",
    "qc.barrier()\n",
    "qc.x(0)\n",
    "qc.measure(0, 0)\n",
    "qc.draw('mpl') # xx"
   ]
  },
  {
   "cell_type": "code",
   "execution_count": null,
   "metadata": {},
   "outputs": [],
   "source": [
    "job = backend.run(qc)\n",
    "results = job.result()\n",
    "counts = results.get_counts()\n",
    "\n",
    "plot_distribution(counts)\n",
    "#plot_histogram(counts)"
   ]
  },
  {
   "cell_type": "markdown",
   "metadata": {},
   "source": [
    "### H gate : Hadamard gate, create superposition\n",
    "\n",
    "$H = \\frac{1}{\\sqrt{2}} \\begin{bmatrix}1 & 1 \\\\ 1 & -1 \\end{bmatrix} , ~~~~~~  HH = I $\n",
    "\n",
    "$H|0\\rangle = \\frac{1}{\\sqrt{2}}(|0\\rangle + |1\\rangle) = |+\\rangle ~~~~~~~~~\n",
    "H|1\\rangle = \\frac{1}{\\sqrt{2}}(|0\\rangle - |1\\rangle) = |-\\rangle$ "
   ]
  },
  {
   "cell_type": "code",
   "execution_count": null,
   "metadata": {},
   "outputs": [],
   "source": [
    "qc = QuantumCircuit(1, 1)\n",
    "qc.h(0)\n",
    "qc.measure(0, 0)\n",
    "\n",
    "qc.draw('mpl')"
   ]
  },
  {
   "cell_type": "code",
   "execution_count": null,
   "metadata": {},
   "outputs": [],
   "source": [
    "job = backend.run(qc)\n",
    "results = job.result()\n",
    "counts = results.get_counts()\n",
    "\n",
    "plot_distribution(counts)\n",
    "#plot_histogram(counts)"
   ]
  },
  {
   "cell_type": "code",
   "execution_count": null,
   "metadata": {},
   "outputs": [],
   "source": [
    "qc = QuantumCircuit(1, 1)\n",
    "qc.x(0)\n",
    "qc.barrier()\n",
    "qc.h(0)\n",
    "qc.measure(0, 0)\n",
    "\n",
    "qc.draw('mpl')"
   ]
  },
  {
   "cell_type": "code",
   "execution_count": null,
   "metadata": {},
   "outputs": [],
   "source": [
    "job = backend.run(qc)\n",
    "results = job.result()\n",
    "counts = results.get_counts()\n",
    "\n",
    "plot_distribution(counts)\n",
    "#plot_histogram(counts)"
   ]
  },
  {
   "cell_type": "code",
   "execution_count": null,
   "metadata": {},
   "outputs": [],
   "source": [
    "qc = QuantumCircuit(1, 1)\n",
    "qc.x(0)\n",
    "qc.barrier()\n",
    "qc.h(0)\n",
    "qc.h(0)\n",
    "qc.measure(0, 0)\n",
    "qc.draw('mpl')"
   ]
  },
  {
   "cell_type": "code",
   "execution_count": null,
   "metadata": {},
   "outputs": [],
   "source": [
    "job = backend.run(qc)\n",
    "results = job.result()\n",
    "counts = results.get_counts()\n",
    "\n",
    "plot_distribution(counts)\n",
    "#plot_histogram(counts)"
   ]
  },
  {
   "cell_type": "markdown",
   "metadata": {},
   "source": [
    "### Z gate :  create relative phase $\\pi$\n",
    "\n",
    "$Z = \\begin{bmatrix}1 & 0 \\\\ 0 & -1 \\end{bmatrix} , ~~~~~~ ZZ=I $\n",
    "\n",
    "$Z|0\\rangle = |0\\rangle ~~~~~~~~~\n",
    "Z|1\\rangle = e^{i\\pi} |1\\rangle = - |1\\rangle $ \n",
    "\n",
    "### S gate:  create relative phase $\\pi/2$\n",
    "\n",
    "$S = \\begin{bmatrix}1 & 0 \\\\ 0 & i \\end{bmatrix} ~~~~~~ SS^{\\dagger}=I $\n",
    "\n",
    "$S|0\\rangle = |0\\rangle ~~~~~~~~~\n",
    "S|1\\rangle = e^{i\\pi/2}|1\\rangle = i |1\\rangle $ "
   ]
  },
  {
   "cell_type": "code",
   "execution_count": null,
   "metadata": {},
   "outputs": [],
   "source": [
    "qc_z = QuantumCircuit(1, 1)\n",
    "qc_z.h(0)\n",
    "qc_z.z(0)\n",
    "qc_z.h(0)\n",
    "qc_z.measure(0, 0)\n",
    "qc_z.draw('mpl')"
   ]
  },
  {
   "cell_type": "code",
   "execution_count": null,
   "metadata": {},
   "outputs": [],
   "source": [
    "job = backend.run(qc_z)\n",
    "results = job.result()\n",
    "counts = results.get_counts()\n",
    "\n",
    "plot_distribution(counts)\n",
    "#plot_histogram(counts)"
   ]
  },
  {
   "cell_type": "code",
   "execution_count": null,
   "metadata": {},
   "outputs": [],
   "source": [
    "qc_s = QuantumCircuit(1,1)\n",
    "qc_s.h(0)\n",
    "qc_s.s(0)\n",
    "qc_s.h(0)\n",
    "qc_s.measure(0, 0)\n",
    "qc_s.draw('mpl')"
   ]
  },
  {
   "cell_type": "code",
   "execution_count": null,
   "metadata": {},
   "outputs": [],
   "source": [
    "job = backend.run(qc_s)\n",
    "results = job.result()\n",
    "counts = results.get_counts()\n",
    "\n",
    "plot_distribution(counts)\n",
    "#plot_histogram(counts)"
   ]
  },
  {
   "cell_type": "markdown",
   "metadata": {},
   "source": [
    "### T gate:  create relative phase $\\pi/4$"
   ]
  },
  {
   "cell_type": "code",
   "execution_count": null,
   "metadata": {},
   "outputs": [],
   "source": [
    "qc_t = QuantumCircuit(1, 1)\n",
    "qc_t.h(0)\n",
    "qc_t.t(0)\n",
    "qc_t.h(0)\n",
    "qc_t.measure(0, 0)\n",
    "qc_t.draw('mpl')"
   ]
  },
  {
   "cell_type": "code",
   "execution_count": null,
   "metadata": {},
   "outputs": [],
   "source": [
    "job = backend.run(qc_t)\n",
    "results = job.result()\n",
    "counts = results.get_counts()\n",
    "\n",
    "plot_distribution(counts)\n",
    "#plot_histogram(counts)"
   ]
  },
  {
   "cell_type": "markdown",
   "metadata": {},
   "source": [
    "<div class=\"alert alert-success\">\n",
    "    <h3>Hands-on exercise 1.</h3>\n",
    "    <p>\n",
    "    Build and simulate quantum circuits showing interferenece similar to the above examples but with the phase gate `p` varying the phase angle. Plot the probability of measuring one as a function of the phase angle. </p>\n",
    "</div>"
   ]
  },
  {
   "cell_type": "markdown",
   "metadata": {},
   "source": [
    "[PhaseGate](https://qiskit.org/documentation/stubs/qiskit.circuit.QuantumCircuit.p.html#qiskit.circuit.QuantumCircuit.p)"
   ]
  },
  {
   "cell_type": "code",
   "execution_count": null,
   "metadata": {},
   "outputs": [],
   "source": [
    "## your code goes here\n",
    "\n",
    "\n",
    "\n",
    "\n",
    "\n",
    "\n",
    "\n",
    "\n",
    "\n",
    "\n",
    "\n",
    "\n"
   ]
  },
  {
   "cell_type": "markdown",
   "metadata": {},
   "source": [
    "## Composite system, Entanglement, two-qubit Gate"
   ]
  },
  {
   "cell_type": "markdown",
   "metadata": {},
   "source": [
    "### Construct Bell state"
   ]
  },
  {
   "cell_type": "code",
   "execution_count": null,
   "metadata": {},
   "outputs": [],
   "source": [
    "bell = QuantumCircuit(2)\n",
    "bell.h(1)\n",
    "bell.cx(1, 0)\n",
    "bell.measure_all()\n",
    "bell.draw('mpl')"
   ]
  },
  {
   "cell_type": "code",
   "execution_count": null,
   "metadata": {},
   "outputs": [],
   "source": [
    "job = backend.run(bell)\n",
    "counts = job.result().get_counts()\n",
    "\n",
    "plot_histogram(counts)"
   ]
  },
  {
   "cell_type": "markdown",
   "metadata": {},
   "source": [
    "<div class=\"alert alert-success\">\n",
    "    <h3>Hands-on exercise 2.</h3>\n",
    "    <p>\n",
    "    Build and simulate the bell state circuit that measures the both qubits in the superposition basis. </p>\n",
    "</div>"
   ]
  },
  {
   "cell_type": "code",
   "execution_count": null,
   "metadata": {},
   "outputs": [],
   "source": [
    "## your code gose here\n",
    "\n",
    "\n",
    "\n",
    "\n",
    "\n",
    "\n",
    "\n",
    "\n"
   ]
  },
  {
   "cell_type": "markdown",
   "metadata": {},
   "source": [
    "<div class=\"alert alert-success\">\n",
    "    <h3>Hands-on exercise 3.</h3>\n",
    "    <p>\n",
    "    Build and simulate a quantum circuit to generate the three qubit GHZ state, $|\\psi\\rangle = \\frac{1}{\\sqrt{2}}(|000\\rangle + |111\\rangle)$. </p>\n",
    "</div>"
   ]
  },
  {
   "cell_type": "code",
   "execution_count": null,
   "metadata": {},
   "outputs": [],
   "source": [
    "## your code goes here\n",
    "\n",
    "\n",
    "\n",
    "\n",
    "\n",
    "\n",
    "\n"
   ]
  },
  {
   "cell_type": "markdown",
   "metadata": {},
   "source": [
    "### Construct W state"
   ]
  },
  {
   "cell_type": "markdown",
   "metadata": {},
   "source": [
    "[W state](https://en.wikipedia.org/wiki/W_state)"
   ]
  },
  {
   "cell_type": "code",
   "execution_count": null,
   "metadata": {},
   "outputs": [],
   "source": [
    "phi = 2 * np.arccos(1/np.sqrt(3))\n",
    "w = QuantumCircuit(3)\n",
    "w.ry(phi, 0)\n",
    "w.ch(0, 1)\n",
    "w.cx([1, 0],[2, 1])\n",
    "w.x(0)\n",
    "w.measure_all()\n",
    "\n",
    "w.draw('mpl')"
   ]
  },
  {
   "cell_type": "code",
   "execution_count": null,
   "metadata": {},
   "outputs": [],
   "source": [
    "# transpile\n",
    "w_trans = transpile(w, backend)\n",
    "counts = backend.run(w_trans, shots=shots).result().get_counts()\n",
    "plot_distribution(counts)"
   ]
  },
  {
   "cell_type": "markdown",
   "metadata": {},
   "source": [
    "## Execute Bell State on Quantum Computer"
   ]
  },
  {
   "cell_type": "markdown",
   "metadata": {},
   "source": [
    "<div class=\"alert alert-block alert-info\">\n",
    "    \n",
    "**STEPS**\n",
    "1. Choose an IBM Quantum system\n",
    "2. Transpile the circuit to be executable\n",
    "3. Run the transpiled circuit on the chosen system\n",
    "    \n",
    "</div>"
   ]
  },
  {
   "cell_type": "markdown",
   "metadata": {},
   "source": [
    "### Step1 Choose a hardware and access its information"
   ]
  },
  {
   "cell_type": "markdown",
   "metadata": {},
   "source": [
    "[IBM Qauntum](https://quantum-computing.ibm.com)"
   ]
  },
  {
   "cell_type": "code",
   "execution_count": null,
   "metadata": {},
   "outputs": [],
   "source": [
    "prov = IBMProvider()"
   ]
  },
  {
   "cell_type": "code",
   "execution_count": null,
   "metadata": {},
   "outputs": [],
   "source": [
    "backend = prov.get_backend('ibmq_manila')"
   ]
  },
  {
   "cell_type": "code",
   "execution_count": null,
   "metadata": {},
   "outputs": [],
   "source": [
    "conf = backend.configuration()\n",
    "\n",
    "print('backend:{}'.format(backend.name))\n",
    "print('num_qubit:{}, QV:{}, CLOP:{}\\n'.format(conf.num_qubits, conf.quantum_volume, conf.clops))\n",
    "print('max_num_circuits:{},'.format(conf.max_experiments), \n",
    "      'max_shots:{}\\n'.format(conf.max_shots)) #default num_shots = 4000\n",
    "print('basis gates:{}'.format(conf.basis_gates),'\\n')\n",
    "print('coupling map:{}'.format(conf.coupling_map))"
   ]
  },
  {
   "cell_type": "code",
   "execution_count": null,
   "metadata": {},
   "outputs": [],
   "source": [
    "#backend.configuration().to_dict()"
   ]
  },
  {
   "cell_type": "code",
   "execution_count": null,
   "metadata": {},
   "outputs": [],
   "source": [
    "plot_error_map(backend)"
   ]
  },
  {
   "cell_type": "markdown",
   "metadata": {},
   "source": [
    "### Step 2 Transpile a circuit (circuits) to run"
   ]
  },
  {
   "cell_type": "code",
   "execution_count": null,
   "metadata": {},
   "outputs": [],
   "source": [
    "bell_trans = transpile(bell, backend)\n",
    "display(bell_trans.draw('mpl'))\n",
    "display(bell_trans.draw('mpl', idle_wires=False))"
   ]
  },
  {
   "cell_type": "markdown",
   "metadata": {},
   "source": [
    "### Step 3. Execute a circuit (circuits) on a chosen system. "
   ]
  },
  {
   "cell_type": "code",
   "execution_count": null,
   "metadata": {},
   "outputs": [],
   "source": [
    "job = backend.run(bell_trans)\n",
    "print(job.job_id())"
   ]
  },
  {
   "cell_type": "code",
   "execution_count": null,
   "metadata": {},
   "outputs": [],
   "source": [
    "#job = backend.retrieve_job()\n",
    "counts = job.result().get_counts()\n",
    "plot_distribution(counts)"
   ]
  },
  {
   "cell_type": "markdown",
   "metadata": {},
   "source": [
    "**Near-term Quantum Systems have noisy qubits, gates, and measurements.**\n",
    "\n",
    "The noise properties of devices and individual qubits are different."
   ]
  },
  {
   "cell_type": "code",
   "execution_count": 2,
   "metadata": {},
   "outputs": [
    {
     "data": {
      "text/html": [
       "<h3>Version Information</h3><table><tr><th>Qiskit Software</th><th>Version</th></tr><tr><td><code>qiskit-terra</code></td><td>0.24.0</td></tr><tr><td><code>qiskit-aer</code></td><td>0.12.0</td></tr><tr><td><code>qiskit-ibmq-provider</code></td><td>0.20.2</td></tr><tr><td><code>qiskit</code></td><td>0.43.0</td></tr><tr><th>System information</th></tr><tr><td>Python version</td><td>3.11.3</td></tr><tr><td>Python compiler</td><td>Clang 14.0.6 </td></tr><tr><td>Python build</td><td>main, Apr 19 2023 18:51:09</td></tr><tr><td>OS</td><td>Darwin</td></tr><tr><td>CPUs</td><td>8</td></tr><tr><td>Memory (Gb)</td><td>32.0</td></tr><tr><td colspan='2'>Wed Jun 21 19:21:50 2023 EDT</td></tr></table>"
      ],
      "text/plain": [
       "<IPython.core.display.HTML object>"
      ]
     },
     "metadata": {},
     "output_type": "display_data"
    },
    {
     "data": {
      "text/html": [
       "<div style='width: 100%; background-color:#d5d9e0;padding-left: 10px; padding-bottom: 10px; padding-right: 10px; padding-top: 5px'><h3>This code is a part of Qiskit</h3><p>&copy; Copyright IBM 2017, 2023.</p><p>This code is licensed under the Apache License, Version 2.0. You may<br>obtain a copy of this license in the LICENSE.txt file in the root directory<br> of this source tree or at http://www.apache.org/licenses/LICENSE-2.0.<p>Any modifications or derivative works of this code must retain this<br>copyright notice, and modified files need to carry a notice indicating<br>that they have been altered from the originals.</p></div>"
      ],
      "text/plain": [
       "<IPython.core.display.HTML object>"
      ]
     },
     "metadata": {},
     "output_type": "display_data"
    }
   ],
   "source": [
    "import qiskit.tools.jupyter\n",
    "%qiskit_version_table\n",
    "%qiskit_copyright"
   ]
  }
 ],
 "metadata": {
  "kernelspec": {
   "display_name": "Python 3 (ipykernel)",
   "language": "python",
   "name": "python3"
  },
  "language_info": {
   "codemirror_mode": {
    "name": "ipython",
    "version": 3
   },
   "file_extension": ".py",
   "mimetype": "text/x-python",
   "name": "python",
   "nbconvert_exporter": "python",
   "pygments_lexer": "ipython3",
   "version": "3.11.4"
  }
 },
 "nbformat": 4,
 "nbformat_minor": 4
}
