{
 "cells": [
  {
   "cell_type": "markdown",
   "id": "announced-husband",
   "metadata": {},
   "source": [
    "# Quantum Algorithms and Simulations"
   ]
  },
  {
   "cell_type": "markdown",
   "id": "relative-possible",
   "metadata": {},
   "source": [
    "**Instructor** : Hwajung Kang, Ph.D., Quantum Computational Scientist, IBM Quantum"
   ]
  },
  {
   "cell_type": "code",
   "execution_count": 2,
   "id": "unsigned-reception",
   "metadata": {},
   "outputs": [],
   "source": [
    "import numpy as np\n",
    "import matplotlib.pyplot as plt\n",
    "\n",
    "from qiskit import *\n",
    "from qiskit.visualization import plot_histogram, plot_distribution\n",
    "from qiskit_aer import AerSimulator"
   ]
  },
  {
   "cell_type": "markdown",
   "id": "clean-catalog",
   "metadata": {},
   "source": [
    "## Quantum circuit construction"
   ]
  },
  {
   "cell_type": "markdown",
   "id": "answering-condition",
   "metadata": {},
   "source": [
    "### Phase Kick-back"
   ]
  },
  {
   "cell_type": "markdown",
   "id": "corresponding-ribbon",
   "metadata": {},
   "source": [
    "We showed interference pattern simulating quantum circuits using phase gate (`p`) in the first session. We can also produce same interference using quantum circuits implementing phase kick-back.\n",
    "\n",
    "**Q. Build quantum circuits to produce interferenece implementing phase kickback with control ry gate (`cry`). Execute circuits on `Aersimulator` and plot intererene pattern.**"
   ]
  },
  {
   "cell_type": "code",
   "execution_count": 4,
   "id": "blind-athens",
   "metadata": {},
   "outputs": [],
   "source": [
    "## Your code goes here\n",
    "\n",
    "\n",
    "\n",
    "\n",
    "\n",
    "\n",
    "\n",
    "\n",
    "\n",
    "\n",
    "\n",
    "\n",
    "\n",
    "\n",
    "\n",
    "\n"
   ]
  },
  {
   "cell_type": "markdown",
   "id": "isolated-sperm",
   "metadata": {},
   "source": [
    "### Bernstein-Vazirani "
   ]
  },
  {
   "cell_type": "markdown",
   "id": "athletic-tender",
   "metadata": {},
   "source": [
    "**Q. Construct a quantum circuit implementing Bernstein-Vazirani algorithm to find the secret bit string $a = 1101$ of the function,\n",
    "$f:\\{0, 1\\}^n \\rightarrow \\{0, 1\\}$ and\n",
    "$f(x) = x\\cdot a~(mod2)$.  Simulate the circuit using `Aersimulator`.**"
   ]
  },
  {
   "cell_type": "code",
   "execution_count": 1,
   "id": "daily-filling",
   "metadata": {
    "scrolled": true
   },
   "outputs": [],
   "source": [
    "## your code goes here\n",
    "\n",
    "\n",
    "\n",
    "\n",
    "\n",
    "\n",
    "\n",
    "\n",
    "\n",
    "\n",
    "\n",
    "\n",
    "\n",
    "\n",
    "\n",
    "\n"
   ]
  },
  {
   "cell_type": "markdown",
   "id": "excited-durham",
   "metadata": {},
   "source": [
    "### Grover algorithm"
   ]
  },
  {
   "cell_type": "markdown",
   "id": "quality-redhead",
   "metadata": {},
   "source": [
    "**Q. Consruct  and simulate a quantum circuit implementing grover algorithm when the oracle has two solutions '000' and '111'.**"
   ]
  },
  {
   "cell_type": "markdown",
   "id": "recognized-instrumentation",
   "metadata": {},
   "source": [
    "- [combining circuits](https://qiskit.org/documentation/stubs/qiskit.circuit.QuantumCircuit.compose.html)\n",
    "\n",
    "- [composite gates](https://qiskit.org/documentation/tutorials/circuits_advanced/01_advanced_circuits.html)"
   ]
  },
  {
   "cell_type": "code",
   "execution_count": 2,
   "id": "geological-schedule",
   "metadata": {},
   "outputs": [],
   "source": [
    "## your code goes here\n",
    "\n",
    "\n",
    "\n",
    "\n",
    "\n",
    "\n",
    "\n",
    "\n",
    "\n",
    "\n",
    "\n",
    "\n",
    "\n",
    "\n",
    "\n",
    "\n"
   ]
  },
  {
   "cell_type": "markdown",
   "id": "charitable-livestock",
   "metadata": {},
   "source": [
    "### Quantum Phase Estimation (QPE)"
   ]
  },
  {
   "cell_type": "markdown",
   "id": "norman-blank",
   "metadata": {},
   "source": [
    "**Q. Build and simulate a QPE circuit to find an eigenvalue of $U$ that is not one varying the number of counting qubits from one to three where** \n",
    "\n",
    "\\begin{equation}\n",
    "U = \n",
    "\\begin{pmatrix}\n",
    "1 & 0 \\\\\n",
    "0 & e^{i\\frac{\\pi}{4}}\\\\\n",
    "\\end{pmatrix}.\n",
    "\\end{equation}\n",
    "\n",
    "**Plot and compare the results.**  "
   ]
  },
  {
   "cell_type": "markdown",
   "id": "unable-ethiopia",
   "metadata": {},
   "source": [
    "- [Qiskit circuit library](https://qiskit.org/documentation/apidoc/circuit_library.html)\n",
    "- [QFT](https://qiskit.org/documentation/stubs/qiskit.circuit.library.QFT.html#qiskit.circuit.library.QFT)"
   ]
  },
  {
   "cell_type": "code",
   "execution_count": 17,
   "id": "emotional-corporation",
   "metadata": {},
   "outputs": [],
   "source": [
    "from qiskit.circuit.library import QFT"
   ]
  },
  {
   "cell_type": "code",
   "execution_count": 16,
   "id": "patent-cuisine",
   "metadata": {},
   "outputs": [],
   "source": [
    "## your code goes here\n",
    "\n",
    "\n",
    "\n",
    "\n",
    "\n",
    "\n",
    "\n",
    "\n",
    "\n",
    "\n",
    "\n",
    "\n",
    "\n",
    "\n",
    "\n",
    "\n",
    "\n",
    "\n",
    "\n",
    "\n",
    "\n"
   ]
  },
  {
   "cell_type": "markdown",
   "id": "under-season",
   "metadata": {},
   "source": [
    "### Statevector simulation\n",
    "\n",
    "Returns a final quantum statevector."
   ]
  },
  {
   "cell_type": "code",
   "execution_count": 75,
   "id": "infrared-cambodia",
   "metadata": {},
   "outputs": [],
   "source": [
    "from qiskit.quantum_info import Statevector"
   ]
  },
  {
   "cell_type": "markdown",
   "id": "multiple-installation",
   "metadata": {},
   "source": [
    "[quantum_info module](https://qiskit.org/documentation/apidoc/quantum_info.html#module-qiskit.quantum_info)"
   ]
  },
  {
   "cell_type": "markdown",
   "id": "characteristic-firewall",
   "metadata": {},
   "source": [
    "#### Exact Distribution - GHZ state"
   ]
  },
  {
   "cell_type": "code",
   "execution_count": 76,
   "id": "funded-beijing",
   "metadata": {},
   "outputs": [
    {
     "data": {
      "image/png": "[encoded data removed]",
      "text/plain": [
       "<Figure size 267.197x204.68 with 1 Axes>"
      ]
     },
     "execution_count": 76,
     "metadata": {},
     "output_type": "execute_result"
    }
   ],
   "source": [
    "ghz = QuantumCircuit(3)\n",
    "ghz.h(0)\n",
    "ghz.cx(0, [1, 2])\n",
    "ghz.draw('mpl')"
   ]
  },
  {
   "cell_type": "code",
   "execution_count": 34,
   "id": "supposed-conversion",
   "metadata": {},
   "outputs": [
    {
     "name": "stdout",
     "output_type": "stream",
     "text": [
      "Statevector([0.70710678+0.j, 0.        +0.j, 0.        +0.j,\n",
      "             0.        +0.j, 0.        +0.j, 0.        +0.j,\n",
      "             0.        +0.j, 0.70710678+0.j],\n",
      "            dims=(2, 2, 2))\n"
     ]
    },
    {
     "data": {
      "text/plain": [
       "{'000': 0.4999999999999999, '111': 0.4999999999999999}"
      ]
     },
     "execution_count": 34,
     "metadata": {},
     "output_type": "execute_result"
    }
   ],
   "source": [
    "st_ghz = Statevector(ghz)\n",
    "print(st_ghz)\n",
    "prob_ghz = st_ghz.probabilities_dict()\n",
    "prob_ghz"
   ]
  },
  {
   "cell_type": "markdown",
   "id": "handmade-functionality",
   "metadata": {},
   "source": [
    "#### Quantum state preparation"
   ]
  },
  {
   "cell_type": "code",
   "execution_count": 3,
   "id": "amateur-library",
   "metadata": {},
   "outputs": [],
   "source": [
    "from qiskit.quantum_info import random_unitary\n",
    "import numpy.linalg as la"
   ]
  },
  {
   "cell_type": "code",
   "execution_count": 35,
   "id": "private-family",
   "metadata": {},
   "outputs": [],
   "source": [
    "n_st = 2\n",
    "Urand_new = random_unitary(2**n_st)\n",
    "vals_new, vecs_new = la.eig(Urand_new)\n",
    "val_new, st_new = vals_new[1], vecs_new[:, 1]"
   ]
  },
  {
   "cell_type": "code",
   "execution_count": 36,
   "id": "narrow-serial",
   "metadata": {},
   "outputs": [
    {
     "name": "stdout",
     "output_type": "stream",
     "text": [
      "state: [ 0.7634461 +0.j          0.44024167+0.00070152j -0.34967153+0.03530124j\n",
      "  0.18316172+0.25743399j]\n",
      "state generated: [ 0.7634461 +1.11022302e-16j  0.44024167+7.01520373e-04j\n",
      " -0.34967153+3.53012383e-02j  0.18316172+2.57433995e-01j]\n"
     ]
    }
   ],
   "source": [
    "qc_st_new = QuantumCircuit(n_st)\n",
    "qc_st_new.initialize(st_new, range(n_st))\n",
    "\n",
    "st_new_gen = Statevector(qc_st_new)\n",
    "\n",
    "print('state: {}'.format(st_new))\n",
    "print('state generated: {}'.format(st_new_gen.data))"
   ]
  },
  {
   "cell_type": "code",
   "execution_count": 37,
   "id": "advised-identifier",
   "metadata": {},
   "outputs": [
    {
     "name": "stdout",
     "output_type": "stream",
     "text": [
      "2.914335439641036e-16\n"
     ]
    }
   ],
   "source": [
    "print(la.norm(st_new.data - st_new_gen.data)) "
   ]
  },
  {
   "cell_type": "markdown",
   "id": "hungry-sandwich",
   "metadata": {},
   "source": [
    "#### Track quantum states - Grover"
   ]
  },
  {
   "cell_type": "markdown",
   "id": "prime-simple",
   "metadata": {},
   "source": [
    "Intermediate state - check Oracle"
   ]
  },
  {
   "cell_type": "code",
   "execution_count": 38,
   "id": "hired-longer",
   "metadata": {},
   "outputs": [
    {
     "data": {
      "image/png": "[encoded data removed]",
      "text/plain": [
       "<Figure size 327.397x204.68 with 1 Axes>"
      ]
     },
     "execution_count": 38,
     "metadata": {},
     "output_type": "execute_result"
    }
   ],
   "source": [
    "oracle.draw('mpl')"
   ]
  },
  {
   "cell_type": "code",
   "execution_count": 39,
   "id": "rental-gospel",
   "metadata": {},
   "outputs": [
    {
     "data": {
      "image/png": "[encoded data removed]",
      "text/plain": [
       "<Figure size 146.797x204.68 with 1 Axes>"
      ]
     },
     "metadata": {},
     "output_type": "display_data"
    },
    {
     "data": {
      "image/png": "[encoded data removed]",
      "text/plain": [
       "<Figure size 387.597x204.68 with 1 Axes>"
      ]
     },
     "metadata": {},
     "output_type": "display_data"
    }
   ],
   "source": [
    "qc_inp = QuantumCircuit(3) \n",
    "qc_inp.h(range(3))\n",
    "display(qc_inp.draw('mpl'))\n",
    "\n",
    "Oout = qc_inp.compose(oracle)\n",
    "display(Oout.draw('mpl'))"
   ]
  },
  {
   "cell_type": "code",
   "execution_count": 40,
   "id": "automatic-grocery",
   "metadata": {},
   "outputs": [
    {
     "name": "stdout",
     "output_type": "stream",
     "text": [
      "Statevector([-0.35355339+0.j,  0.35355339+0.j,  0.35355339+0.j,\n",
      "              0.35355339+0.j,  0.35355339+0.j,  0.35355339+0.j,\n",
      "              0.35355339+0.j, -0.35355339+0.j],\n",
      "            dims=(2, 2, 2))\n"
     ]
    }
   ],
   "source": [
    "st_Oout = Statevector(Oout)\n",
    "st_Oout"
   ]
  },
  {
   "cell_type": "markdown",
   "id": "bigger-intent",
   "metadata": {},
   "source": [
    "Final state "
   ]
  },
  {
   "cell_type": "code",
   "execution_count": 41,
   "id": "wrong-manner",
   "metadata": {},
   "outputs": [
    {
     "data": {
      "image/png": "[encoded data removed]",
      "text/plain": [
       "<Figure size 688.597x204.68 with 1 Axes>"
      ]
     },
     "execution_count": 41,
     "metadata": {},
     "output_type": "execute_result"
    }
   ],
   "source": [
    "grover = Oout.compose(amp)\n",
    "grover.draw('mpl')"
   ]
  },
  {
   "cell_type": "code",
   "execution_count": 42,
   "id": "medical-yahoo",
   "metadata": {},
   "outputs": [
    {
     "data": {
      "text/plain": [
       "array([-0.707+0.j, -0.   +0.j,  0.   +0.j, -0.   +0.j, -0.   +0.j,\n",
       "        0.   +0.j, -0.   +0.j, -0.707+0.j])"
      ]
     },
     "execution_count": 42,
     "metadata": {},
     "output_type": "execute_result"
    }
   ],
   "source": [
    "grover_st = Statevector(grover)\n",
    "np.round(grover_st, 3)"
   ]
  },
  {
   "cell_type": "code",
   "execution_count": 43,
   "id": "through-cartridge",
   "metadata": {},
   "outputs": [
    {
     "data": {
      "text/plain": [
       "{'000': 0.4999999999999993,\n",
       " '001': 3.1697683532918522e-68,\n",
       " '010': 3.9621727475551315e-35,\n",
       " '011': 1.814210694026673e-34,\n",
       " '100': 1.814210694026673e-34,\n",
       " '101': 3.9621727475551315e-35,\n",
       " '110': 3.1697683532918522e-68,\n",
       " '111': 0.4999999999999993}"
      ]
     },
     "execution_count": 43,
     "metadata": {},
     "output_type": "execute_result"
    }
   ],
   "source": [
    "prob_grover = grover_st.probabilities_dict()\n",
    "prob_grover"
   ]
  }
 ],
 "metadata": {
  "kernelspec": {
   "display_name": "Python 3 (ipykernel)",
   "language": "python",
   "name": "python3"
  },
  "language_info": {
   "codemirror_mode": {
    "name": "ipython",
    "version": 3
   },
   "file_extension": ".py",
   "mimetype": "text/x-python",
   "name": "python",
   "nbconvert_exporter": "python",
   "pygments_lexer": "ipython3",
   "version": "3.11.4"
  }
 },
 "nbformat": 4,
 "nbformat_minor": 5
}
